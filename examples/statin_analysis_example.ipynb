{
 "cells": [
  {
   "cell_type": "markdown",
   "metadata": {
    "id": "xMyOEyv69eEO"
   },
   "source": [
    "# Data Exploration and Statin Analysis on FHIR\n",
    "This notebook shows an example of using [tools for working with FHIR data](https://github.com/google/fhir-py) to understand a complex dataset and run a simplified quality measure over it.\n",
    "\n",
    "# Setup\n",
    "Users will need to first install the required tooling. Until it's on PyPI it can be pulled from source. If you're using a managed notebook like [Vertex AI Workbench](https://cloud.google.com/vertex-ai-workbench), you can open a terminal and copy this in:\n",
    "\n",
    "```\n",
    "git clone https://github.com/google/fhir-py.git\n",
    "cd fhir-py\n",
    "./install_all.sh\n",
    "```\n",
    "\n",
    "See the [README](https://github.com/google/fhir-py#readme) for details on installation.\n",
    "\n",
    "# Environment setup\n",
    "This example has been tested in a [Vertex AI Workbench notebook](https://cloud.google.com/vertex-ai-workbench), but can be adapted to work in any Jupyter-based notebook. The key item is that you will need a GCP project and the ability to use BigQuery. The cell below sets up the BigQuery client and creates a new dataset that will be used for this analysis. It also creates a BigQuery view \"runner\", which is used to apply declarative views of FHIR in BigQuery. Examples of using it are below."
   ]
  },
  {
   "cell_type": "code",
   "execution_count": 1,
   "metadata": {
    "id": "4uLHjJK_kY0w"
   },
   "outputs": [],
   "source": [
    "from google.cloud import bigquery\n",
    "from google.fhir.views import r4, bigquery_runner\n",
    "\n",
    "# The BigQuery dataset containing FHIR data. This may be read-only to the user.\n",
    "fhir_dataset = 'bigquery-public-data.fhir_synthea'\n",
    "\n",
    "# The BigQuery dataset where we will create views, value sets, and other derived tables\n",
    "# as needed. This must be writeable by the user. This will use the default project\n",
    "# where this notebook is running.\n",
    "analysis_dataset = 'statin_analysis_example'\n",
    "\n",
    "client = bigquery.Client()\n",
    "\n",
    "# Create our the dataset itself.\n",
    "dataset = bigquery.DatasetReference(client.project, analysis_dataset)\n",
    "dataset.location = \"US\"\n",
    "dataset = client.create_dataset(dataset, exists_ok=True)\n",
    "\n",
    "\n",
    "runner = bigquery_runner.BigQueryRunner(\n",
    "    client,\n",
    "    fhir_dataset=fhir_dataset,\n",
    "    view_dataset=analysis_dataset,\n",
    "    snake_case_resource_tables=True)"
   ]
  },
  {
   "cell_type": "markdown",
   "metadata": {
    "id": "mR5s6IO98I5R"
   },
   "source": [
    "# Explore the data\n",
    "Getting a general feeling for the data is an important first step in any analysis. So let's create some views of FHIR resources and take a look at common fields."
   ]
  },
  {
   "cell_type": "code",
   "execution_count": 2,
   "metadata": {
    "id": "CUL5shxQactX"
   },
   "outputs": [],
   "source": [
    "\n",
    "# Load views based on the base FHIR R4 profile definitions.\n",
    "views = r4.base_r4()\n",
    "\n",
    "# Create shorthand names for resources we will work with.\n",
    "conds = views.view_of('Condition')\n",
    "meds = views.view_of('MedicationRequest')\n",
    "obs = views.view_of('Observation')\n",
    "pats = views.view_of('Patient')"
   ]
  },
  {
   "cell_type": "markdown",
   "metadata": {
    "id": "0r4vK7ZwUujh"
   },
   "source": [
    "Let's take a look at some observation resources by creating FHIRPath expressions to select the items we're interested in.\n",
    "\n",
    "Notice that tab completion works for FHIR fields and FHIRPath functions, so users don't need to switch back and forth to FHIR documentation as much.\n"
   ]
  },
  {
   "cell_type": "code",
   "execution_count": 3,
   "metadata": {
    "colab": {
     "height": 206
    },
    "executionInfo": {
     "elapsed": 4454,
     "status": "ok",
     "timestamp": 1660942841570,
     "user": {
      "displayName": "",
      "userId": ""
     },
     "user_tz": 420
    },
    "id": "u43t7AX79C1V",
    "outputId": "7f6fabe2-a7ba-493e-8fd2-600462a4918c"
   },
   "outputs": [
    {
     "data": {
      "text/html": [
       "<div>\n",
       "<style scoped>\n",
       "    .dataframe tbody tr th:only-of-type {\n",
       "        vertical-align: middle;\n",
       "    }\n",
       "\n",
       "    .dataframe tbody tr th {\n",
       "        vertical-align: top;\n",
       "    }\n",
       "\n",
       "    .dataframe thead th {\n",
       "        text-align: right;\n",
       "    }\n",
       "</style>\n",
       "<table border=\"1\" class=\"dataframe\">\n",
       "  <thead>\n",
       "    <tr style=\"text-align: right;\">\n",
       "      <th></th>\n",
       "      <th>category</th>\n",
       "      <th>code_display</th>\n",
       "      <th>status</th>\n",
       "    </tr>\n",
       "  </thead>\n",
       "  <tbody>\n",
       "    <tr>\n",
       "      <th>0</th>\n",
       "      <td>[vital-signs]</td>\n",
       "      <td>[Blood Pressure]</td>\n",
       "      <td>final</td>\n",
       "    </tr>\n",
       "    <tr>\n",
       "      <th>1</th>\n",
       "      <td>[vital-signs]</td>\n",
       "      <td>[Blood Pressure]</td>\n",
       "      <td>final</td>\n",
       "    </tr>\n",
       "    <tr>\n",
       "      <th>2</th>\n",
       "      <td>[vital-signs]</td>\n",
       "      <td>[Blood Pressure]</td>\n",
       "      <td>final</td>\n",
       "    </tr>\n",
       "    <tr>\n",
       "      <th>3</th>\n",
       "      <td>[vital-signs]</td>\n",
       "      <td>[Blood Pressure]</td>\n",
       "      <td>final</td>\n",
       "    </tr>\n",
       "    <tr>\n",
       "      <th>4</th>\n",
       "      <td>[vital-signs]</td>\n",
       "      <td>[Blood Pressure]</td>\n",
       "      <td>final</td>\n",
       "    </tr>\n",
       "  </tbody>\n",
       "</table>\n",
       "</div>"
      ],
      "text/plain": [
       "        category      code_display status\n",
       "0  [vital-signs]  [Blood Pressure]  final\n",
       "1  [vital-signs]  [Blood Pressure]  final\n",
       "2  [vital-signs]  [Blood Pressure]  final\n",
       "3  [vital-signs]  [Blood Pressure]  final\n",
       "4  [vital-signs]  [Blood Pressure]  final"
      ]
     },
     "execution_count": 3,
     "metadata": {},
     "output_type": "execute_result"
    }
   ],
   "source": [
    "runner.to_dataframe(\n",
    "    obs.select({\n",
    "        'category': obs.category.coding.code,\n",
    "        'code_display': obs.code.coding.display,\n",
    "        'status': obs.status\n",
    "        }),\n",
    "        limit=5)"
   ]
  },
  {
   "cell_type": "markdown",
   "metadata": {
    "id": "28V00OWgVZLI"
   },
   "source": [
    "Of course just a sample of codes isn't too useful -- we really want a summary of what codes exist in a field and how many there are. Fortunately, the BigQuery runner supports a `summarize_codes` method that accepts a view and a field name and does exactly that.\n",
    "\n",
    "Also notice this handles many millions of records in seconds thanks to the underlying BigQuery execution engine."
   ]
  },
  {
   "cell_type": "code",
   "execution_count": 4,
   "metadata": {
    "colab": {
     "height": 332
    },
    "executionInfo": {
     "elapsed": 725,
     "status": "ok",
     "timestamp": 1660942842346,
     "user": {
      "displayName": "",
      "userId": ""
     },
     "user_tz": 420
    },
    "id": "zoOfuYBi8cOn",
    "outputId": "885a0130-e88a-46cb-9d19-409206de3691"
   },
   "outputs": [
    {
     "data": {
      "text/html": [
       "<div>\n",
       "<style scoped>\n",
       "    .dataframe tbody tr th:only-of-type {\n",
       "        vertical-align: middle;\n",
       "    }\n",
       "\n",
       "    .dataframe tbody tr th {\n",
       "        vertical-align: top;\n",
       "    }\n",
       "\n",
       "    .dataframe thead th {\n",
       "        text-align: right;\n",
       "    }\n",
       "</style>\n",
       "<table border=\"1\" class=\"dataframe\">\n",
       "  <thead>\n",
       "    <tr style=\"text-align: right;\">\n",
       "      <th></th>\n",
       "      <th>system</th>\n",
       "      <th>code</th>\n",
       "      <th>display</th>\n",
       "      <th>count</th>\n",
       "    </tr>\n",
       "  </thead>\n",
       "  <tbody>\n",
       "    <tr>\n",
       "      <th>0</th>\n",
       "      <td>http://hl7.org/fhir/observation-category</td>\n",
       "      <td>laboratory</td>\n",
       "      <td>laboratory</td>\n",
       "      <td>134975846</td>\n",
       "    </tr>\n",
       "    <tr>\n",
       "      <th>1</th>\n",
       "      <td>http://hl7.org/fhir/observation-category</td>\n",
       "      <td>vital-signs</td>\n",
       "      <td>vital-signs</td>\n",
       "      <td>61942927</td>\n",
       "    </tr>\n",
       "    <tr>\n",
       "      <th>2</th>\n",
       "      <td>http://hl7.org/fhir/observation-category</td>\n",
       "      <td>survey</td>\n",
       "      <td>survey</td>\n",
       "      <td>11381764</td>\n",
       "    </tr>\n",
       "    <tr>\n",
       "      <th>3</th>\n",
       "      <td>http://hl7.org/fhir/observation-category</td>\n",
       "      <td>procedure</td>\n",
       "      <td>procedure</td>\n",
       "      <td>515603</td>\n",
       "    </tr>\n",
       "    <tr>\n",
       "      <th>4</th>\n",
       "      <td>http://hl7.org/fhir/observation-category</td>\n",
       "      <td>social-history</td>\n",
       "      <td>social-history</td>\n",
       "      <td>417444</td>\n",
       "    </tr>\n",
       "    <tr>\n",
       "      <th>5</th>\n",
       "      <td>http://hl7.org/fhir/observation-category</td>\n",
       "      <td>exam</td>\n",
       "      <td>exam</td>\n",
       "      <td>317776</td>\n",
       "    </tr>\n",
       "    <tr>\n",
       "      <th>6</th>\n",
       "      <td>http://hl7.org/fhir/observation-category</td>\n",
       "      <td>vital-sign</td>\n",
       "      <td>vital-sign</td>\n",
       "      <td>97951</td>\n",
       "    </tr>\n",
       "    <tr>\n",
       "      <th>7</th>\n",
       "      <td>http://hl7.org/fhir/observation-category</td>\n",
       "      <td>imaging</td>\n",
       "      <td>imaging</td>\n",
       "      <td>97951</td>\n",
       "    </tr>\n",
       "    <tr>\n",
       "      <th>8</th>\n",
       "      <td>http://hl7.org/fhir/observation-category</td>\n",
       "      <td>therapy</td>\n",
       "      <td>therapy</td>\n",
       "      <td>24559</td>\n",
       "    </tr>\n",
       "  </tbody>\n",
       "</table>\n",
       "</div>"
      ],
      "text/plain": [
       "                                     system            code         display  \\\n",
       "0  http://hl7.org/fhir/observation-category      laboratory      laboratory   \n",
       "1  http://hl7.org/fhir/observation-category     vital-signs     vital-signs   \n",
       "2  http://hl7.org/fhir/observation-category          survey          survey   \n",
       "3  http://hl7.org/fhir/observation-category       procedure       procedure   \n",
       "4  http://hl7.org/fhir/observation-category  social-history  social-history   \n",
       "5  http://hl7.org/fhir/observation-category            exam            exam   \n",
       "6  http://hl7.org/fhir/observation-category      vital-sign      vital-sign   \n",
       "7  http://hl7.org/fhir/observation-category         imaging         imaging   \n",
       "8  http://hl7.org/fhir/observation-category         therapy         therapy   \n",
       "\n",
       "       count  \n",
       "0  134975846  \n",
       "1   61942927  \n",
       "2   11381764  \n",
       "3     515603  \n",
       "4     417444  \n",
       "5     317776  \n",
       "6      97951  \n",
       "7      97951  \n",
       "8      24559  "
      ]
     },
     "execution_count": 4,
     "metadata": {},
     "output_type": "execute_result"
    }
   ],
   "source": [
    "runner.summarize_codes(obs, obs.category)"
   ]
  },
  {
   "cell_type": "markdown",
   "metadata": {
    "id": "uBKeoQhuVou2"
   },
   "source": [
    "We can also do so for conditions or other resources:"
   ]
  },
  {
   "cell_type": "code",
   "execution_count": 5,
   "metadata": {
    "colab": {
     "height": 424
    },
    "executionInfo": {
     "elapsed": 866,
     "status": "ok",
     "timestamp": 1660942843264,
     "user": {
      "displayName": "",
      "userId": ""
     },
     "user_tz": 420
    },
    "id": "8DDj3s2-cTQK",
    "outputId": "e82379a0-0385-4c2f-a06c-6ab3b129b201"
   },
   "outputs": [
    {
     "data": {
      "text/html": [
       "<div>\n",
       "<style scoped>\n",
       "    .dataframe tbody tr th:only-of-type {\n",
       "        vertical-align: middle;\n",
       "    }\n",
       "\n",
       "    .dataframe tbody tr th {\n",
       "        vertical-align: top;\n",
       "    }\n",
       "\n",
       "    .dataframe thead th {\n",
       "        text-align: right;\n",
       "    }\n",
       "</style>\n",
       "<table border=\"1\" class=\"dataframe\">\n",
       "  <thead>\n",
       "    <tr style=\"text-align: right;\">\n",
       "      <th></th>\n",
       "      <th>system</th>\n",
       "      <th>code</th>\n",
       "      <th>display</th>\n",
       "      <th>count</th>\n",
       "    </tr>\n",
       "  </thead>\n",
       "  <tbody>\n",
       "    <tr>\n",
       "      <th>0</th>\n",
       "      <td>http://snomed.info/sct</td>\n",
       "      <td>444814009</td>\n",
       "      <td>Viral sinusitis (disorder)</td>\n",
       "      <td>1231862</td>\n",
       "    </tr>\n",
       "    <tr>\n",
       "      <th>1</th>\n",
       "      <td>http://snomed.info/sct</td>\n",
       "      <td>195662009</td>\n",
       "      <td>Acute viral pharyngitis (disorder)</td>\n",
       "      <td>699685</td>\n",
       "    </tr>\n",
       "    <tr>\n",
       "      <th>2</th>\n",
       "      <td>http://snomed.info/sct</td>\n",
       "      <td>10509002</td>\n",
       "      <td>Acute bronchitis (disorder)</td>\n",
       "      <td>568613</td>\n",
       "    </tr>\n",
       "    <tr>\n",
       "      <th>3</th>\n",
       "      <td>http://snomed.info/sct</td>\n",
       "      <td>162864005</td>\n",
       "      <td>Body mass index 30+ - obesity (finding)</td>\n",
       "      <td>529938</td>\n",
       "    </tr>\n",
       "    <tr>\n",
       "      <th>4</th>\n",
       "      <td>http://snomed.info/sct</td>\n",
       "      <td>72892002</td>\n",
       "      <td>Normal pregnancy</td>\n",
       "      <td>500825</td>\n",
       "    </tr>\n",
       "    <tr>\n",
       "      <th>...</th>\n",
       "      <td>...</td>\n",
       "      <td>...</td>\n",
       "      <td>...</td>\n",
       "      <td>...</td>\n",
       "    </tr>\n",
       "    <tr>\n",
       "      <th>160</th>\n",
       "      <td>http://snomed.info/sct</td>\n",
       "      <td>46177005</td>\n",
       "      <td>End stage renal disease (disorder)</td>\n",
       "      <td>7</td>\n",
       "    </tr>\n",
       "    <tr>\n",
       "      <th>161</th>\n",
       "      <td>http://snomed.info/sct</td>\n",
       "      <td>287191006</td>\n",
       "      <td>Suicide - suffocation</td>\n",
       "      <td>6</td>\n",
       "    </tr>\n",
       "    <tr>\n",
       "      <th>162</th>\n",
       "      <td>http://snomed.info/sct</td>\n",
       "      <td>44301001</td>\n",
       "      <td>Suicide</td>\n",
       "      <td>3</td>\n",
       "    </tr>\n",
       "    <tr>\n",
       "      <th>163</th>\n",
       "      <td>http://snomed.info/sct</td>\n",
       "      <td>425048006</td>\n",
       "      <td>Non-small cell carcinoma of lung, TNM stage 2 ...</td>\n",
       "      <td>2</td>\n",
       "    </tr>\n",
       "    <tr>\n",
       "      <th>164</th>\n",
       "      <td>http://snomed.info/sct</td>\n",
       "      <td>67821000119109</td>\n",
       "      <td>Primary small cell malignant neoplasm of lung,...</td>\n",
       "      <td>1</td>\n",
       "    </tr>\n",
       "  </tbody>\n",
       "</table>\n",
       "<p>165 rows × 4 columns</p>\n",
       "</div>"
      ],
      "text/plain": [
       "                     system            code  \\\n",
       "0    http://snomed.info/sct       444814009   \n",
       "1    http://snomed.info/sct       195662009   \n",
       "2    http://snomed.info/sct        10509002   \n",
       "3    http://snomed.info/sct       162864005   \n",
       "4    http://snomed.info/sct        72892002   \n",
       "..                      ...             ...   \n",
       "160  http://snomed.info/sct        46177005   \n",
       "161  http://snomed.info/sct       287191006   \n",
       "162  http://snomed.info/sct        44301001   \n",
       "163  http://snomed.info/sct       425048006   \n",
       "164  http://snomed.info/sct  67821000119109   \n",
       "\n",
       "                                               display    count  \n",
       "0                           Viral sinusitis (disorder)  1231862  \n",
       "1                   Acute viral pharyngitis (disorder)   699685  \n",
       "2                          Acute bronchitis (disorder)   568613  \n",
       "3              Body mass index 30+ - obesity (finding)   529938  \n",
       "4                                     Normal pregnancy   500825  \n",
       "..                                                 ...      ...  \n",
       "160                 End stage renal disease (disorder)        7  \n",
       "161                              Suicide - suffocation        6  \n",
       "162                                            Suicide        3  \n",
       "163  Non-small cell carcinoma of lung, TNM stage 2 ...        2  \n",
       "164  Primary small cell malignant neoplasm of lung,...        1  \n",
       "\n",
       "[165 rows x 4 columns]"
      ]
     },
     "execution_count": 5,
     "metadata": {},
     "output_type": "execute_result"
    }
   ],
   "source": [
    "runner.summarize_codes(conds, conds.code)"
   ]
  },
  {
   "cell_type": "markdown",
   "metadata": {
    "id": "03uKoApvYrso"
   },
   "source": [
    "# Creating Views\n",
    "FHIR Data is complicated, but there is usually a flat, tabular form of it that can satisfy a given use case and data set.\n",
    "\n",
    "For example, imagine we need a simple table of patients with their current address. This isn't trivial to query since the address is a nested repeated field. Fortunately we can build a FHIRPath expression to find the current address and create a flattened view using that. \n",
    "\n",
    "(This can vary by dataset, but in this case we determine the current address by finding the first address that does not have a period attached to it.)"
   ]
  },
  {
   "cell_type": "code",
   "execution_count": 6,
   "metadata": {
    "colab": {
     "height": 206
    },
    "executionInfo": {
     "elapsed": 801,
     "status": "ok",
     "timestamp": 1660942844134,
     "user": {
      "displayName": "",
      "userId": ""
     },
     "user_tz": 420
    },
    "id": "HGAZctdLY-y9",
    "outputId": "d1181deb-5b12-4147-a999-48e3357fd521"
   },
   "outputs": [
    {
     "data": {
      "text/html": [
       "<div>\n",
       "<style scoped>\n",
       "    .dataframe tbody tr th:only-of-type {\n",
       "        vertical-align: middle;\n",
       "    }\n",
       "\n",
       "    .dataframe tbody tr th {\n",
       "        vertical-align: top;\n",
       "    }\n",
       "\n",
       "    .dataframe thead th {\n",
       "        text-align: right;\n",
       "    }\n",
       "</style>\n",
       "<table border=\"1\" class=\"dataframe\">\n",
       "  <thead>\n",
       "    <tr style=\"text-align: right;\">\n",
       "      <th></th>\n",
       "      <th>id</th>\n",
       "      <th>gender</th>\n",
       "      <th>birthdate</th>\n",
       "      <th>street</th>\n",
       "      <th>city</th>\n",
       "      <th>state</th>\n",
       "      <th>zip</th>\n",
       "    </tr>\n",
       "  </thead>\n",
       "  <tbody>\n",
       "    <tr>\n",
       "      <th>0</th>\n",
       "      <td>7f932089-f060-4ad9-89f3-831d236eb8c4</td>\n",
       "      <td>female</td>\n",
       "      <td>2017-08-21</td>\n",
       "      <td>311 Lebsack Meadow</td>\n",
       "      <td>Hatfield</td>\n",
       "      <td>Massachusetts</td>\n",
       "      <td>01038</td>\n",
       "    </tr>\n",
       "    <tr>\n",
       "      <th>1</th>\n",
       "      <td>13204eb5-ae78-4e72-92b9-6058f56cbb3c</td>\n",
       "      <td>male</td>\n",
       "      <td>2011-10-28</td>\n",
       "      <td>520 Roob Drive Apt 17</td>\n",
       "      <td>Hatfield</td>\n",
       "      <td>Massachusetts</td>\n",
       "      <td>01038</td>\n",
       "    </tr>\n",
       "    <tr>\n",
       "      <th>2</th>\n",
       "      <td>6aaf6b90-6667-4004-b510-18cfa32a32d5</td>\n",
       "      <td>female</td>\n",
       "      <td>2002-05-14</td>\n",
       "      <td>1049 Powlowski Haven</td>\n",
       "      <td>Hatfield</td>\n",
       "      <td>Massachusetts</td>\n",
       "      <td>01038</td>\n",
       "    </tr>\n",
       "    <tr>\n",
       "      <th>3</th>\n",
       "      <td>f59b1aa1-a0e4-4a38-8095-149a791313cc</td>\n",
       "      <td>male</td>\n",
       "      <td>2013-06-11</td>\n",
       "      <td>484 Mante Park</td>\n",
       "      <td>Hatfield</td>\n",
       "      <td>Massachusetts</td>\n",
       "      <td>01038</td>\n",
       "    </tr>\n",
       "    <tr>\n",
       "      <th>4</th>\n",
       "      <td>079116c6-8e7d-4a1b-9421-b736380caab5</td>\n",
       "      <td>female</td>\n",
       "      <td>2003-11-04</td>\n",
       "      <td>545 Prosacco Alley Suite 97</td>\n",
       "      <td>Hatfield</td>\n",
       "      <td>Massachusetts</td>\n",
       "      <td>01038</td>\n",
       "    </tr>\n",
       "  </tbody>\n",
       "</table>\n",
       "</div>"
      ],
      "text/plain": [
       "                                     id  gender   birthdate  \\\n",
       "0  7f932089-f060-4ad9-89f3-831d236eb8c4  female  2017-08-21   \n",
       "1  13204eb5-ae78-4e72-92b9-6058f56cbb3c    male  2011-10-28   \n",
       "2  6aaf6b90-6667-4004-b510-18cfa32a32d5  female  2002-05-14   \n",
       "3  f59b1aa1-a0e4-4a38-8095-149a791313cc    male  2013-06-11   \n",
       "4  079116c6-8e7d-4a1b-9421-b736380caab5  female  2003-11-04   \n",
       "\n",
       "                        street      city          state    zip  \n",
       "0           311 Lebsack Meadow  Hatfield  Massachusetts  01038  \n",
       "1        520 Roob Drive Apt 17  Hatfield  Massachusetts  01038  \n",
       "2         1049 Powlowski Haven  Hatfield  Massachusetts  01038  \n",
       "3               484 Mante Park  Hatfield  Massachusetts  01038  \n",
       "4  545 Prosacco Alley Suite 97  Hatfield  Massachusetts  01038  "
      ]
     },
     "execution_count": 6,
     "metadata": {},
     "output_type": "execute_result"
    }
   ],
   "source": [
    "# For this dataset we interpret the current address as one where period is empty.\n",
    "current = pats.address.where(pats.address.period.empty()).first()\n",
    "\n",
    "simple_pats = pats.select({\n",
    "    'id': pats.id,\n",
    "    'gender': pats.gender,\n",
    "    'birthdate': pats.birthDate,\n",
    "    'street': current.line.first(),\n",
    "    'city': current.city, \n",
    "    'state': current.state,\n",
    "    'zip': current.postalCode\n",
    "    })\n",
    "\n",
    "runner.to_dataframe(simple_pats, limit = 5)"
   ]
  },
  {
   "cell_type": "markdown",
   "metadata": {
    "id": "Ap4c1Xxka3m6"
   },
   "source": [
    "That's nice, but suppose we want to create it as an actual BigQuery view -- basically a virtual table that can be easily used by *any* application that uses BigQuery. We can simply turn that definition into a BigQuery view:"
   ]
  },
  {
   "cell_type": "code",
   "execution_count": 7,
   "metadata": {
    "id": "OegHj4i_fHBc"
   },
   "outputs": [],
   "source": [
    "runner.create_bigquery_view(simple_pats, 'patients')"
   ]
  },
  {
   "cell_type": "code",
   "execution_count": 8,
   "metadata": {
    "colab": {
     "height": 241
    },
    "executionInfo": {
     "elapsed": 1015,
     "status": "ok",
     "timestamp": 1660942845987,
     "user": {
      "displayName": "",
      "userId": ""
     },
     "user_tz": 420
    },
    "id": "bA5MKVgpfN8p",
    "outputId": "e0e1ce06-93c5-4bce-ebdf-d9f84c5e6d37"
   },
   "outputs": [
    {
     "name": "stderr",
     "output_type": "stream",
     "text": [
      "Query complete after 0.01s: 100%|██████████| 2/2 [00:00<00:00, 959.79query/s]                         \n",
      "Downloading: 100%|██████████| 5/5 [00:01<00:00,  3.75rows/s]\n"
     ]
    },
    {
     "data": {
      "text/html": [
       "<div>\n",
       "<style scoped>\n",
       "    .dataframe tbody tr th:only-of-type {\n",
       "        vertical-align: middle;\n",
       "    }\n",
       "\n",
       "    .dataframe tbody tr th {\n",
       "        vertical-align: top;\n",
       "    }\n",
       "\n",
       "    .dataframe thead th {\n",
       "        text-align: right;\n",
       "    }\n",
       "</style>\n",
       "<table border=\"1\" class=\"dataframe\">\n",
       "  <thead>\n",
       "    <tr style=\"text-align: right;\">\n",
       "      <th></th>\n",
       "      <th>id</th>\n",
       "      <th>gender</th>\n",
       "      <th>birthdate</th>\n",
       "      <th>street</th>\n",
       "      <th>city</th>\n",
       "      <th>state</th>\n",
       "      <th>zip</th>\n",
       "    </tr>\n",
       "  </thead>\n",
       "  <tbody>\n",
       "    <tr>\n",
       "      <th>0</th>\n",
       "      <td>f367a74b-6fe7-46d3-8e13-b023dd2bb4ab</td>\n",
       "      <td>female</td>\n",
       "      <td>2007-07-11</td>\n",
       "      <td>505 Vandervort Row</td>\n",
       "      <td>Hatfield</td>\n",
       "      <td>Massachusetts</td>\n",
       "      <td>01038</td>\n",
       "    </tr>\n",
       "    <tr>\n",
       "      <th>1</th>\n",
       "      <td>c1382d13-d64b-4c43-a95b-9ecfd0a4a548</td>\n",
       "      <td>female</td>\n",
       "      <td>2013-06-07</td>\n",
       "      <td>961 Stoltenberg Parade</td>\n",
       "      <td>Hatfield</td>\n",
       "      <td>Massachusetts</td>\n",
       "      <td>01038</td>\n",
       "    </tr>\n",
       "    <tr>\n",
       "      <th>2</th>\n",
       "      <td>c4c87e82-74de-4af6-86e8-8ea21b11716c</td>\n",
       "      <td>female</td>\n",
       "      <td>1964-02-02</td>\n",
       "      <td>305 Gusikowski Manor</td>\n",
       "      <td>Hatfield</td>\n",
       "      <td>Massachusetts</td>\n",
       "      <td>01038</td>\n",
       "    </tr>\n",
       "    <tr>\n",
       "      <th>3</th>\n",
       "      <td>4206023e-f025-477f-8ada-c58155697c55</td>\n",
       "      <td>female</td>\n",
       "      <td>2010-10-30</td>\n",
       "      <td>699 Cummerata Manor</td>\n",
       "      <td>Hatfield</td>\n",
       "      <td>Massachusetts</td>\n",
       "      <td>01038</td>\n",
       "    </tr>\n",
       "    <tr>\n",
       "      <th>4</th>\n",
       "      <td>e2231e26-e03d-4e83-b5f6-d4196bbca245</td>\n",
       "      <td>female</td>\n",
       "      <td>2002-07-19</td>\n",
       "      <td>922 Welch Boulevard</td>\n",
       "      <td>Hatfield</td>\n",
       "      <td>Massachusetts</td>\n",
       "      <td>01038</td>\n",
       "    </tr>\n",
       "  </tbody>\n",
       "</table>\n",
       "</div>"
      ],
      "text/plain": [
       "                                     id  gender   birthdate  \\\n",
       "0  f367a74b-6fe7-46d3-8e13-b023dd2bb4ab  female  2007-07-11   \n",
       "1  c1382d13-d64b-4c43-a95b-9ecfd0a4a548  female  2013-06-07   \n",
       "2  c4c87e82-74de-4af6-86e8-8ea21b11716c  female  1964-02-02   \n",
       "3  4206023e-f025-477f-8ada-c58155697c55  female  2010-10-30   \n",
       "4  e2231e26-e03d-4e83-b5f6-d4196bbca245  female  2002-07-19   \n",
       "\n",
       "                   street      city          state    zip  \n",
       "0      505 Vandervort Row  Hatfield  Massachusetts  01038  \n",
       "1  961 Stoltenberg Parade  Hatfield  Massachusetts  01038  \n",
       "2    305 Gusikowski Manor  Hatfield  Massachusetts  01038  \n",
       "3     699 Cummerata Manor  Hatfield  Massachusetts  01038  \n",
       "4     922 Welch Boulevard  Hatfield  Massachusetts  01038  "
      ]
     },
     "execution_count": 8,
     "metadata": {},
     "output_type": "execute_result"
    }
   ],
   "source": [
    "%%bigquery\n",
    "SELECT * FROM statin_analysis_example.patients\n",
    "LIMIT 5"
   ]
  },
  {
   "cell_type": "markdown",
   "metadata": {
    "id": "wV_JX6RELMdS"
   },
   "source": [
    "Now we have a nice, flattened patients table that meets the needs of our system and data. We'll create similarly simple views of other resources as well, but first we need to introduce another concept: value sets. \n",
    "\n",
    "# Using the Value Sets\n",
    "Code value sets are a central part of nearly any significant FHIR-based data analysis. For instance, the car gap analysis below needs to query for statin medications, LDL tests, and other concepts. Users could track down specific code values, but there's a better way: we will use predefined, curated value sets from the [Value Set Authority Center](https://vsac.nlm.nih.gov/) that define this content.\n",
    "\n",
    "First we need to obtain the content. Users may create a value set table themselves and populate it as needed, but this library also supports the ability to connect to a FHIR terminology server and retrieve the needed values. The example below shows connecting to VSAC's terminology server and getting code values for statins, CHD, and LDL tests:"
   ]
  },
  {
   "cell_type": "code",
   "execution_count": 9,
   "metadata": {
    "id": "eOx1Be3Y4HSa"
   },
   "outputs": [],
   "source": [
    "# Value set URLs used in the queries\n",
    "STATIN_MEDS = 'http://cts.nlm.nih.gov/fhir/ValueSet/2.16.840.1.113883.3.117.1.7.1.225'\n",
    "CHD_OR_RISK_EQUIV = 'http://cts.nlm.nih.gov/fhir/ValueSet/2.16.840.1.113883.3.600.862'\n",
    "LDL_TEST = 'http://cts.nlm.nih.gov/fhir/ValueSet/2.16.840.1.113883.3.464.1003.198.11.1029'"
   ]
  },
  {
   "cell_type": "code",
   "execution_count": 10,
   "metadata": {
    "id": "o7fxaelMz55s"
   },
   "outputs": [
    {
     "name": "stdin",
     "output_type": "stream",
     "text": [
      "UMLS API KEY:  ····································\n"
     ]
    }
   ],
   "source": [
    "import getpass \n",
    "from google.fhir.r4.terminology import terminology_service_client\n",
    "\n",
    "api_key = getpass.getpass('UMLS API KEY: ')\n",
    "\n",
    "tx_client = terminology_service_client.TerminologyServiceClient({\n",
    "    'http://cts.nlm.nih.gov/fhir/': ('apikey', api_key),\n",
    "})\n",
    "runner.materialize_value_set_expansion((STATIN_MEDS, LDL_TEST, CHD_OR_RISK_EQUIV), tx_client)"
   ]
  },
  {
   "cell_type": "markdown",
   "metadata": {
    "id": "ouSg5jjKcRXo"
   },
   "source": [
    "Now that we've downloaded that content, let's take a look at the value_set_codes table it produced:"
   ]
  },
  {
   "cell_type": "code",
   "execution_count": 11,
   "metadata": {
    "colab": {
     "height": 366
    },
    "executionInfo": {
     "elapsed": 1000,
     "status": "ok",
     "timestamp": 1660942858114,
     "user": {
      "displayName": "",
      "userId": ""
     },
     "user_tz": 420
    },
    "id": "l7oMAdLw4Xdu",
    "outputId": "78f30064-84de-4884-a27d-98a3d941a0ad"
   },
   "outputs": [
    {
     "name": "stderr",
     "output_type": "stream",
     "text": [
      "Query complete after 0.00s: 100%|██████████| 1/1 [00:00<00:00, 518.71query/s]                          \n",
      "Downloading: 100%|██████████| 9/9 [00:01<00:00,  6.46rows/s]\n"
     ]
    },
    {
     "data": {
      "text/html": [
       "<div>\n",
       "<style scoped>\n",
       "    .dataframe tbody tr th:only-of-type {\n",
       "        vertical-align: middle;\n",
       "    }\n",
       "\n",
       "    .dataframe tbody tr th {\n",
       "        vertical-align: top;\n",
       "    }\n",
       "\n",
       "    .dataframe thead th {\n",
       "        text-align: right;\n",
       "    }\n",
       "</style>\n",
       "<table border=\"1\" class=\"dataframe\">\n",
       "  <thead>\n",
       "    <tr style=\"text-align: right;\">\n",
       "      <th></th>\n",
       "      <th>valueseturi</th>\n",
       "      <th>valuesetversion</th>\n",
       "      <th>system</th>\n",
       "      <th>code</th>\n",
       "    </tr>\n",
       "  </thead>\n",
       "  <tbody>\n",
       "    <tr>\n",
       "      <th>0</th>\n",
       "      <td>http://cts.nlm.nih.gov/fhir/ValueSet/2.16.840....</td>\n",
       "      <td>20170504</td>\n",
       "      <td>http://loinc.org</td>\n",
       "      <td>18261-8</td>\n",
       "    </tr>\n",
       "    <tr>\n",
       "      <th>1</th>\n",
       "      <td>http://cts.nlm.nih.gov/fhir/ValueSet/2.16.840....</td>\n",
       "      <td>20170504</td>\n",
       "      <td>http://loinc.org</td>\n",
       "      <td>18262-6</td>\n",
       "    </tr>\n",
       "    <tr>\n",
       "      <th>2</th>\n",
       "      <td>http://cts.nlm.nih.gov/fhir/ValueSet/2.16.840....</td>\n",
       "      <td>20170504</td>\n",
       "      <td>http://loinc.org</td>\n",
       "      <td>49132-4</td>\n",
       "    </tr>\n",
       "    <tr>\n",
       "      <th>3</th>\n",
       "      <td>http://cts.nlm.nih.gov/fhir/ValueSet/2.16.840....</td>\n",
       "      <td>20170504</td>\n",
       "      <td>http://loinc.org</td>\n",
       "      <td>13457-7</td>\n",
       "    </tr>\n",
       "    <tr>\n",
       "      <th>4</th>\n",
       "      <td>http://cts.nlm.nih.gov/fhir/ValueSet/2.16.840....</td>\n",
       "      <td>20170504</td>\n",
       "      <td>http://loinc.org</td>\n",
       "      <td>39469-2</td>\n",
       "    </tr>\n",
       "    <tr>\n",
       "      <th>5</th>\n",
       "      <td>http://cts.nlm.nih.gov/fhir/ValueSet/2.16.840....</td>\n",
       "      <td>20170504</td>\n",
       "      <td>http://loinc.org</td>\n",
       "      <td>22748-8</td>\n",
       "    </tr>\n",
       "    <tr>\n",
       "      <th>6</th>\n",
       "      <td>http://cts.nlm.nih.gov/fhir/ValueSet/2.16.840....</td>\n",
       "      <td>20170504</td>\n",
       "      <td>http://loinc.org</td>\n",
       "      <td>55440-2</td>\n",
       "    </tr>\n",
       "    <tr>\n",
       "      <th>7</th>\n",
       "      <td>http://cts.nlm.nih.gov/fhir/ValueSet/2.16.840....</td>\n",
       "      <td>20170504</td>\n",
       "      <td>http://loinc.org</td>\n",
       "      <td>12773-8</td>\n",
       "    </tr>\n",
       "    <tr>\n",
       "      <th>8</th>\n",
       "      <td>http://cts.nlm.nih.gov/fhir/ValueSet/2.16.840....</td>\n",
       "      <td>20170504</td>\n",
       "      <td>http://loinc.org</td>\n",
       "      <td>2089-1</td>\n",
       "    </tr>\n",
       "  </tbody>\n",
       "</table>\n",
       "</div>"
      ],
      "text/plain": [
       "                                         valueseturi valuesetversion  \\\n",
       "0  http://cts.nlm.nih.gov/fhir/ValueSet/2.16.840....        20170504   \n",
       "1  http://cts.nlm.nih.gov/fhir/ValueSet/2.16.840....        20170504   \n",
       "2  http://cts.nlm.nih.gov/fhir/ValueSet/2.16.840....        20170504   \n",
       "3  http://cts.nlm.nih.gov/fhir/ValueSet/2.16.840....        20170504   \n",
       "4  http://cts.nlm.nih.gov/fhir/ValueSet/2.16.840....        20170504   \n",
       "5  http://cts.nlm.nih.gov/fhir/ValueSet/2.16.840....        20170504   \n",
       "6  http://cts.nlm.nih.gov/fhir/ValueSet/2.16.840....        20170504   \n",
       "7  http://cts.nlm.nih.gov/fhir/ValueSet/2.16.840....        20170504   \n",
       "8  http://cts.nlm.nih.gov/fhir/ValueSet/2.16.840....        20170504   \n",
       "\n",
       "             system     code  \n",
       "0  http://loinc.org  18261-8  \n",
       "1  http://loinc.org  18262-6  \n",
       "2  http://loinc.org  49132-4  \n",
       "3  http://loinc.org  13457-7  \n",
       "4  http://loinc.org  39469-2  \n",
       "5  http://loinc.org  22748-8  \n",
       "6  http://loinc.org  55440-2  \n",
       "7  http://loinc.org  12773-8  \n",
       "8  http://loinc.org   2089-1  "
      ]
     },
     "execution_count": 11,
     "metadata": {},
     "output_type": "execute_result"
    }
   ],
   "source": [
    "%%bigquery\n",
    "SELECT * FROM \n",
    "statin_analysis_example.value_set_codes\n",
    "WHERE valueseturi = 'http://cts.nlm.nih.gov/fhir/ValueSet/2.16.840.1.113883.3.464.1003.198.11.1029'"
   ]
  },
  {
   "cell_type": "markdown",
   "metadata": {
    "id": "pvK77y74ivgB"
   },
   "source": [
    "We now have the value sets needed for some analysis stored in BigQuery, so let's use them for an important use case: identifying gaps in care.\n",
    "\n",
    "\n",
    "# Identifying Statin Therapy Care Gaps\n",
    "This section analyzes the use of statin therapy for patients who have been diagnosed with Coronary Heart Disease (CHD) or have equivalent risks. We achieve this by first identifying a cohort of patients and then measuring the percentage of them with the recommended therapy. \n",
    "\n",
    "Some of this content is based on the [Statin Therapy eCQM](https://ecqi.healthit.gov/system/files/ecqm/measures/CMS347v1.html).\n",
    "\n",
    "## The cohort:\n",
    "Patients who have either of the following during the measurement period:\n",
    "* Coronary Heart Disease or equivalent risks (as defiend by CMS) OR\n",
    "* An LDL-C greater than or equal to 180\n",
    "\n",
    "## The measure:\n",
    "The percentage of cohort members who have statin therapy.\n",
    "\n",
    "We start by setting some measure parameters, like the start and end date for our program:"
   ]
  },
  {
   "cell_type": "code",
   "execution_count": 12,
   "metadata": {
    "id": "-_iYnsgNi_LB"
   },
   "outputs": [],
   "source": [
    "import datetime\n",
    "\n",
    "# Start and end dates for our analysis\n",
    "start_date = datetime.date(2018,1,1)\n",
    "end_date = datetime.date(2019,1,1)"
   ]
  },
  {
   "cell_type": "markdown",
   "metadata": {
    "id": "k1QStuSHMpG1"
   },
   "source": [
    "Now let's take the complex FHIR data and create some simple views for our needs. Let's start with a view of all LDL values:"
   ]
  },
  {
   "cell_type": "code",
   "execution_count": 13,
   "metadata": {
    "colab": {
     "height": 363
    },
    "executionInfo": {
     "elapsed": 17469,
     "status": "ok",
     "timestamp": 1660942875662,
     "user": {
      "displayName": "",
      "userId": ""
     },
     "user_tz": 420
    },
    "id": "ag9kU7FlFRsQ",
    "outputId": "5e95c040-bce7-4e57-a62d-6f1c07b200df"
   },
   "outputs": [
    {
     "data": {
      "text/html": [
       "<div>\n",
       "<style scoped>\n",
       "    .dataframe tbody tr th:only-of-type {\n",
       "        vertical-align: middle;\n",
       "    }\n",
       "\n",
       "    .dataframe tbody tr th {\n",
       "        vertical-align: top;\n",
       "    }\n",
       "\n",
       "    .dataframe thead th {\n",
       "        text-align: right;\n",
       "    }\n",
       "</style>\n",
       "<table border=\"1\" class=\"dataframe\">\n",
       "  <thead>\n",
       "    <tr style=\"text-align: right;\">\n",
       "      <th></th>\n",
       "      <th>patient</th>\n",
       "      <th>value</th>\n",
       "      <th>unit</th>\n",
       "      <th>test</th>\n",
       "      <th>date</th>\n",
       "    </tr>\n",
       "  </thead>\n",
       "  <tbody>\n",
       "    <tr>\n",
       "      <th>0</th>\n",
       "      <td>971c9f2d-11a9-496f-9166-3861e19d1e1d</td>\n",
       "      <td>134.216612</td>\n",
       "      <td>mg/dL</td>\n",
       "      <td>Low Density Lipoprotein Cholesterol</td>\n",
       "      <td>2018-05-08T23:28:01+00:00</td>\n",
       "    </tr>\n",
       "    <tr>\n",
       "      <th>1</th>\n",
       "      <td>e613f947-7898-4a93-934f-9baef05df922</td>\n",
       "      <td>84.858008</td>\n",
       "      <td>mg/dL</td>\n",
       "      <td>Low Density Lipoprotein Cholesterol</td>\n",
       "      <td>2017-03-27T09:08:44+00:00</td>\n",
       "    </tr>\n",
       "    <tr>\n",
       "      <th>2</th>\n",
       "      <td>634dc36d-1377-4e6d-99b5-5be040d2cb12</td>\n",
       "      <td>137.517456</td>\n",
       "      <td>mg/dL</td>\n",
       "      <td>Low Density Lipoprotein Cholesterol</td>\n",
       "      <td>2017-03-02T07:08:03+00:00</td>\n",
       "    </tr>\n",
       "    <tr>\n",
       "      <th>3</th>\n",
       "      <td>9f66b1ab-1960-4719-9df1-d2bc4fe28a9e</td>\n",
       "      <td>104.552939</td>\n",
       "      <td>mg/dL</td>\n",
       "      <td>Low Density Lipoprotein Cholesterol</td>\n",
       "      <td>2013-09-26T21:29:19+00:00</td>\n",
       "    </tr>\n",
       "    <tr>\n",
       "      <th>4</th>\n",
       "      <td>35e08209-69bf-48a3-ae99-df1efbf0dc14</td>\n",
       "      <td>115.731848</td>\n",
       "      <td>mg/dL</td>\n",
       "      <td>Low Density Lipoprotein Cholesterol</td>\n",
       "      <td>2007-10-01T05:50:42+00:00</td>\n",
       "    </tr>\n",
       "    <tr>\n",
       "      <th>5</th>\n",
       "      <td>abcf02b1-819e-4024-9ce5-7ae2a7012c68</td>\n",
       "      <td>78.946073</td>\n",
       "      <td>mg/dL</td>\n",
       "      <td>Low Density Lipoprotein Cholesterol</td>\n",
       "      <td>2013-05-18T03:49:00+00:00</td>\n",
       "    </tr>\n",
       "    <tr>\n",
       "      <th>6</th>\n",
       "      <td>0e855801-e920-4a7c-895f-bf9440a54e73</td>\n",
       "      <td>72.990413</td>\n",
       "      <td>mg/dL</td>\n",
       "      <td>Low Density Lipoprotein Cholesterol</td>\n",
       "      <td>2014-06-02T20:40:21+00:00</td>\n",
       "    </tr>\n",
       "    <tr>\n",
       "      <th>7</th>\n",
       "      <td>4e9f2e6d-1ff1-4656-80ad-ed9103584c8e</td>\n",
       "      <td>89.497321</td>\n",
       "      <td>mg/dL</td>\n",
       "      <td>Low Density Lipoprotein Cholesterol</td>\n",
       "      <td>2011-05-24T17:26:26+00:00</td>\n",
       "    </tr>\n",
       "    <tr>\n",
       "      <th>8</th>\n",
       "      <td>658e600e-b4df-468f-8d02-6eee6c73de33</td>\n",
       "      <td>137.017050</td>\n",
       "      <td>mg/dL</td>\n",
       "      <td>Low Density Lipoprotein Cholesterol</td>\n",
       "      <td>2011-08-14T18:17:58+00:00</td>\n",
       "    </tr>\n",
       "    <tr>\n",
       "      <th>9</th>\n",
       "      <td>64ba0f3c-5908-42fd-9c1a-85949b8b6f06</td>\n",
       "      <td>65.299842</td>\n",
       "      <td>mg/dL</td>\n",
       "      <td>Low Density Lipoprotein Cholesterol</td>\n",
       "      <td>2013-05-06T14:51:47+00:00</td>\n",
       "    </tr>\n",
       "  </tbody>\n",
       "</table>\n",
       "</div>"
      ],
      "text/plain": [
       "                                patient       value   unit  \\\n",
       "0  971c9f2d-11a9-496f-9166-3861e19d1e1d  134.216612  mg/dL   \n",
       "1  e613f947-7898-4a93-934f-9baef05df922   84.858008  mg/dL   \n",
       "2  634dc36d-1377-4e6d-99b5-5be040d2cb12  137.517456  mg/dL   \n",
       "3  9f66b1ab-1960-4719-9df1-d2bc4fe28a9e  104.552939  mg/dL   \n",
       "4  35e08209-69bf-48a3-ae99-df1efbf0dc14  115.731848  mg/dL   \n",
       "5  abcf02b1-819e-4024-9ce5-7ae2a7012c68   78.946073  mg/dL   \n",
       "6  0e855801-e920-4a7c-895f-bf9440a54e73   72.990413  mg/dL   \n",
       "7  4e9f2e6d-1ff1-4656-80ad-ed9103584c8e   89.497321  mg/dL   \n",
       "8  658e600e-b4df-468f-8d02-6eee6c73de33  137.017050  mg/dL   \n",
       "9  64ba0f3c-5908-42fd-9c1a-85949b8b6f06   65.299842  mg/dL   \n",
       "\n",
       "                                  test                       date  \n",
       "0  Low Density Lipoprotein Cholesterol  2018-05-08T23:28:01+00:00  \n",
       "1  Low Density Lipoprotein Cholesterol  2017-03-27T09:08:44+00:00  \n",
       "2  Low Density Lipoprotein Cholesterol  2017-03-02T07:08:03+00:00  \n",
       "3  Low Density Lipoprotein Cholesterol  2013-09-26T21:29:19+00:00  \n",
       "4  Low Density Lipoprotein Cholesterol  2007-10-01T05:50:42+00:00  \n",
       "5  Low Density Lipoprotein Cholesterol  2013-05-18T03:49:00+00:00  \n",
       "6  Low Density Lipoprotein Cholesterol  2014-06-02T20:40:21+00:00  \n",
       "7  Low Density Lipoprotein Cholesterol  2011-05-24T17:26:26+00:00  \n",
       "8  Low Density Lipoprotein Cholesterol  2011-08-14T18:17:58+00:00  \n",
       "9  Low Density Lipoprotein Cholesterol  2013-05-06T14:51:47+00:00  "
      ]
     },
     "execution_count": 13,
     "metadata": {},
     "output_type": "execute_result"
    }
   ],
   "source": [
    "ldl_obs = obs.select({\n",
    "    'patient': obs.subject.idFor('Patient'),\n",
    "    'value': obs.value.ofType('Quantity').value,\n",
    "    'unit': obs.value.ofType('Quantity').unit,\n",
    "    'test': obs.code.coding.display.first(),\n",
    "    'date': obs.effective.ofType('dateTime')\n",
    "    }).where(obs.code.memberOf(LDL_TEST)) \n",
    "\n",
    "runner.to_dataframe(ldl_obs, limit=10)"
   ]
  },
  {
   "cell_type": "markdown",
   "metadata": {
    "id": "0mXcIk3ZO4mn"
   },
   "source": [
    "Now we can create it as a BigQuery view -- and *all* analysis that needs LDL values can simply use this nice, flattened table for that use case.\n",
    "\n",
    "We recommend creating such simple, flattened tables for each major part of your analysis. That way they can be inspected and validated independently of the measure logic, making it much easier to separate and solve data and logic issues."
   ]
  },
  {
   "cell_type": "code",
   "execution_count": 14,
   "metadata": {
    "id": "ovP-KPoGQJv7"
   },
   "outputs": [],
   "source": [
    "runner.create_bigquery_view(ldl_obs, 'ldl_obs')\n"
   ]
  },
  {
   "cell_type": "markdown",
   "metadata": {
    "id": "cS1sZ9Ye4wc8"
   },
   "source": [
    "Let's do some minimal validation by plotting a random sample of all LDL values. \n",
    "\n",
    "You can see a clear bimodal distribution in this example. This is an artifact of the branching logic synthetic data generator used to create the data, where some generated patients are branched with conditions."
   ]
  },
  {
   "cell_type": "code",
   "execution_count": 15,
   "metadata": {
    "executionInfo": {
     "elapsed": 13662,
     "status": "ok",
     "timestamp": 1660942890420,
     "user": {
      "displayName": "",
      "userId": ""
     },
     "user_tz": 420
    },
    "id": "f6lyLqYPJFtp",
    "outputId": "5d5d7e98-19d5-4caa-cf3e-a976b8e35571"
   },
   "outputs": [
    {
     "name": "stderr",
     "output_type": "stream",
     "text": [
      "Query complete after 0.00s: 100%|██████████| 17/17 [00:00<00:00, 6486.82query/s]                       \n",
      "Downloading: 100%|██████████| 50349/50349 [00:01<00:00, 33860.90rows/s]\n"
     ]
    }
   ],
   "source": [
    "%%bigquery ldl_values\n",
    "SELECT value FROM statin_analysis_example.ldl_obs WHERE RAND() < 0.01"
   ]
  },
  {
   "cell_type": "code",
   "execution_count": 16,
   "metadata": {
    "colab": {
     "height": 265
    },
    "executionInfo": {
     "elapsed": 919,
     "status": "ok",
     "timestamp": 1660942891369,
     "user": {
      "displayName": "",
      "userId": ""
     },
     "user_tz": 420
    },
    "id": "PqL4cRC2JO1q",
    "outputId": "1037c4fb-7f10-4726-b0b8-7a63fb0b8ecf"
   },
   "outputs": [
    {
     "data": {
      "image/png": "[encoded data removed]",
      "text/plain": [
       "<Figure size 432x288 with 1 Axes>"
      ]
     },
     "metadata": {
      "needs_background": "light"
     },
     "output_type": "display_data"
    }
   ],
   "source": [
    "ldl_values.plot.hist(bins=50);"
   ]
  },
  {
   "cell_type": "markdown",
   "metadata": {
    "id": "CwA-wrRNVPRv"
   },
   "source": [
    "We can also layer views on top of one another. For example, since the measure is scoped to 2018, it might be convenient to create a view of LDL values only for that year.\n",
    "\n",
    "Fortunately we can just add conditions to the previous view:"
   ]
  },
  {
   "cell_type": "code",
   "execution_count": 17,
   "metadata": {
    "id": "Ee5zrTkcQN_9"
   },
   "outputs": [],
   "source": [
    "ldl_obs_2018 = ldl_obs.where(ldl_obs.date >= start_date, \n",
    "                             ldl_obs.date < end_date)\n",
    "\n",
    "runner.create_bigquery_view(ldl_obs_2018, 'ldl_obs_2018')"
   ]
  },
  {
   "cell_type": "markdown",
   "metadata": {
    "id": "khAAO5rOViqc"
   },
   "source": [
    "Now we'll take a similar approach to another part of our analysis: a view of Coronary Heart Disease conditions or requivalent risks."
   ]
  },
  {
   "cell_type": "code",
   "execution_count": 18,
   "metadata": {
    "colab": {
     "height": 363
    },
    "executionInfo": {
     "elapsed": 8307,
     "status": "ok",
     "timestamp": 1660942900661,
     "user": {
      "displayName": "",
      "userId": ""
     },
     "user_tz": 420
    },
    "id": "KaXyO5uNNBz9",
    "outputId": "34a44ded-1f15-43cc-ec0a-7816afc0e992"
   },
   "outputs": [
    {
     "data": {
      "text/html": [
       "<div>\n",
       "<style scoped>\n",
       "    .dataframe tbody tr th:only-of-type {\n",
       "        vertical-align: middle;\n",
       "    }\n",
       "\n",
       "    .dataframe tbody tr th {\n",
       "        vertical-align: top;\n",
       "    }\n",
       "\n",
       "    .dataframe thead th {\n",
       "        text-align: right;\n",
       "    }\n",
       "</style>\n",
       "<table border=\"1\" class=\"dataframe\">\n",
       "  <thead>\n",
       "    <tr style=\"text-align: right;\">\n",
       "      <th></th>\n",
       "      <th>patient</th>\n",
       "      <th>date</th>\n",
       "      <th>code</th>\n",
       "      <th>display</th>\n",
       "    </tr>\n",
       "  </thead>\n",
       "  <tbody>\n",
       "    <tr>\n",
       "      <th>0</th>\n",
       "      <td>4c87f2fa-2a0c-42f2-a48b-3680c068619e</td>\n",
       "      <td>2000-09-10T19:28:11+00:00</td>\n",
       "      <td>53741008</td>\n",
       "      <td>Coronary Heart Disease</td>\n",
       "    </tr>\n",
       "    <tr>\n",
       "      <th>1</th>\n",
       "      <td>a45f5740-e04c-4e56-840b-1e97e3d1da37</td>\n",
       "      <td>1983-06-30T09:15:03+00:00</td>\n",
       "      <td>53741008</td>\n",
       "      <td>Coronary Heart Disease</td>\n",
       "    </tr>\n",
       "    <tr>\n",
       "      <th>2</th>\n",
       "      <td>0742b12c-e6f2-4031-bb4b-4d340e5de244</td>\n",
       "      <td>1964-06-20T03:17:08+00:00</td>\n",
       "      <td>44054006</td>\n",
       "      <td>Diabetes</td>\n",
       "    </tr>\n",
       "    <tr>\n",
       "      <th>3</th>\n",
       "      <td>1d106c41-3f97-4a5b-a339-739013e6c0fa</td>\n",
       "      <td>2019-09-20T09:19:14+00:00</td>\n",
       "      <td>53741008</td>\n",
       "      <td>Coronary Heart Disease</td>\n",
       "    </tr>\n",
       "    <tr>\n",
       "      <th>4</th>\n",
       "      <td>e7fc64bf-0378-4778-ae15-833176cf77d4</td>\n",
       "      <td>1997-11-02T12:16:50+00:00</td>\n",
       "      <td>53741008</td>\n",
       "      <td>Coronary Heart Disease</td>\n",
       "    </tr>\n",
       "    <tr>\n",
       "      <th>5</th>\n",
       "      <td>1b0f8c62-a48a-47ae-ac16-9c116366c424</td>\n",
       "      <td>1996-10-25T16:26:17+00:00</td>\n",
       "      <td>127013003</td>\n",
       "      <td>Diabetic renal disease (disorder)</td>\n",
       "    </tr>\n",
       "    <tr>\n",
       "      <th>6</th>\n",
       "      <td>cd4db121-fa97-485f-9663-9b012e9e877b</td>\n",
       "      <td>2010-02-01T21:46:46+00:00</td>\n",
       "      <td>44054006</td>\n",
       "      <td>Diabetes</td>\n",
       "    </tr>\n",
       "    <tr>\n",
       "      <th>7</th>\n",
       "      <td>2c2ea7e6-e80d-4d00-86b9-da21bd752e59</td>\n",
       "      <td>2018-05-20T15:28:46+00:00</td>\n",
       "      <td>53741008</td>\n",
       "      <td>Coronary Heart Disease</td>\n",
       "    </tr>\n",
       "    <tr>\n",
       "      <th>8</th>\n",
       "      <td>f35a278b-e932-4d25-9a90-f69bf6c4b9f7</td>\n",
       "      <td>2016-10-20T11:01:44+00:00</td>\n",
       "      <td>53741008</td>\n",
       "      <td>Coronary Heart Disease</td>\n",
       "    </tr>\n",
       "    <tr>\n",
       "      <th>9</th>\n",
       "      <td>2834f6a2-b5bb-485e-88ab-c10d6f4491f5</td>\n",
       "      <td>1994-06-30T17:44:17+00:00</td>\n",
       "      <td>44054006</td>\n",
       "      <td>Diabetes</td>\n",
       "    </tr>\n",
       "  </tbody>\n",
       "</table>\n",
       "</div>"
      ],
      "text/plain": [
       "                                patient                       date       code  \\\n",
       "0  4c87f2fa-2a0c-42f2-a48b-3680c068619e  2000-09-10T19:28:11+00:00   53741008   \n",
       "1  a45f5740-e04c-4e56-840b-1e97e3d1da37  1983-06-30T09:15:03+00:00   53741008   \n",
       "2  0742b12c-e6f2-4031-bb4b-4d340e5de244  1964-06-20T03:17:08+00:00   44054006   \n",
       "3  1d106c41-3f97-4a5b-a339-739013e6c0fa  2019-09-20T09:19:14+00:00   53741008   \n",
       "4  e7fc64bf-0378-4778-ae15-833176cf77d4  1997-11-02T12:16:50+00:00   53741008   \n",
       "5  1b0f8c62-a48a-47ae-ac16-9c116366c424  1996-10-25T16:26:17+00:00  127013003   \n",
       "6  cd4db121-fa97-485f-9663-9b012e9e877b  2010-02-01T21:46:46+00:00   44054006   \n",
       "7  2c2ea7e6-e80d-4d00-86b9-da21bd752e59  2018-05-20T15:28:46+00:00   53741008   \n",
       "8  f35a278b-e932-4d25-9a90-f69bf6c4b9f7  2016-10-20T11:01:44+00:00   53741008   \n",
       "9  2834f6a2-b5bb-485e-88ab-c10d6f4491f5  1994-06-30T17:44:17+00:00   44054006   \n",
       "\n",
       "                             display  \n",
       "0             Coronary Heart Disease  \n",
       "1             Coronary Heart Disease  \n",
       "2                           Diabetes  \n",
       "3             Coronary Heart Disease  \n",
       "4             Coronary Heart Disease  \n",
       "5  Diabetic renal disease (disorder)  \n",
       "6                           Diabetes  \n",
       "7             Coronary Heart Disease  \n",
       "8             Coronary Heart Disease  \n",
       "9                           Diabetes  "
      ]
     },
     "execution_count": 18,
     "metadata": {},
     "output_type": "execute_result"
    }
   ],
   "source": [
    "chd_or_equiv_risks = conds.select({\n",
    "        'patient': conds.subject.idFor('Patient'),\n",
    "        'date': conds.onset.ofType('dateTime'),\n",
    "        'code': conds.code.coding.code.first(),\n",
    "        'display': conds.code.coding.display.first()\n",
    "        }\n",
    "    ).where(\n",
    "        conds.code.memberOf(CHD_OR_RISK_EQUIV))\n",
    "\n",
    "runner.create_bigquery_view(chd_or_equiv_risks, 'chd_or_equiv_risks')\n",
    "runner.to_dataframe(chd_or_equiv_risks, limit=10)"
   ]
  },
  {
   "cell_type": "code",
   "execution_count": 19,
   "metadata": {
    "id": "dQidAwvcVynE"
   },
   "outputs": [],
   "source": [
    "chd_or_equiv_risks_2018 = chd_or_equiv_risks.where(\n",
    "        chd_or_equiv_risks.date >= start_date,\n",
    "        chd_or_equiv_risks.date < end_date)\n",
    "\n",
    "runner.create_bigquery_view(chd_or_equiv_risks_2018, 'chd_or_equiv_risks_2018')"
   ]
  },
  {
   "cell_type": "markdown",
   "metadata": {
    "id": "RIFwwyOy622m"
   },
   "source": [
    "Let's look at the condition codes to see if this looks reasonable. Notice that the value set defined for this analysis includes diabetes as a risk equivalent here, as seen in the reulting counts:"
   ]
  },
  {
   "cell_type": "code",
   "execution_count": 20,
   "metadata": {
    "colab": {
     "height": 241
    },
    "executionInfo": {
     "elapsed": 7202,
     "status": "ok",
     "timestamp": 1660942908719,
     "user": {
      "displayName": "",
      "userId": ""
     },
     "user_tz": 420
    },
    "id": "rzfSXYRHFTX_",
    "outputId": "e3409840-6dc0-4c16-b50a-06658123f940"
   },
   "outputs": [
    {
     "name": "stderr",
     "output_type": "stream",
     "text": [
      "Query complete after 0.00s: 100%|██████████| 16/16 [00:00<00:00, 7772.63query/s]                       \n",
      "Downloading: 100%|██████████| 5/5 [00:01<00:00,  3.54rows/s]\n"
     ]
    },
    {
     "data": {
      "text/html": [
       "<div>\n",
       "<style scoped>\n",
       "    .dataframe tbody tr th:only-of-type {\n",
       "        vertical-align: middle;\n",
       "    }\n",
       "\n",
       "    .dataframe tbody tr th {\n",
       "        vertical-align: top;\n",
       "    }\n",
       "\n",
       "    .dataframe thead th {\n",
       "        text-align: right;\n",
       "    }\n",
       "</style>\n",
       "<table border=\"1\" class=\"dataframe\">\n",
       "  <thead>\n",
       "    <tr style=\"text-align: right;\">\n",
       "      <th></th>\n",
       "      <th>code</th>\n",
       "      <th>display</th>\n",
       "      <th>count</th>\n",
       "    </tr>\n",
       "  </thead>\n",
       "  <tbody>\n",
       "    <tr>\n",
       "      <th>0</th>\n",
       "      <td>53741008</td>\n",
       "      <td>Coronary Heart Disease</td>\n",
       "      <td>2173</td>\n",
       "    </tr>\n",
       "    <tr>\n",
       "      <th>1</th>\n",
       "      <td>44054006</td>\n",
       "      <td>Diabetes</td>\n",
       "      <td>1541</td>\n",
       "    </tr>\n",
       "    <tr>\n",
       "      <th>2</th>\n",
       "      <td>127013003</td>\n",
       "      <td>Diabetic renal disease (disorder)</td>\n",
       "      <td>853</td>\n",
       "    </tr>\n",
       "    <tr>\n",
       "      <th>3</th>\n",
       "      <td>427089005</td>\n",
       "      <td>Male Infertility</td>\n",
       "      <td>3</td>\n",
       "    </tr>\n",
       "    <tr>\n",
       "      <th>4</th>\n",
       "      <td>427089005</td>\n",
       "      <td>Diabetes from Cystic Fibrosis</td>\n",
       "      <td>1</td>\n",
       "    </tr>\n",
       "  </tbody>\n",
       "</table>\n",
       "</div>"
      ],
      "text/plain": [
       "        code                            display  count\n",
       "0   53741008             Coronary Heart Disease   2173\n",
       "1   44054006                           Diabetes   1541\n",
       "2  127013003  Diabetic renal disease (disorder)    853\n",
       "3  427089005                   Male Infertility      3\n",
       "4  427089005      Diabetes from Cystic Fibrosis      1"
      ]
     },
     "execution_count": 20,
     "metadata": {},
     "output_type": "execute_result"
    }
   ],
   "source": [
    "%%bigquery\n",
    "SELECT code, display, COUNT(*) count\n",
    "FROM statin_analysis_example.chd_or_equiv_risks_2018\n",
    "GROUP BY code, display ORDER BY count DESC"
   ]
  },
  {
   "cell_type": "markdown",
   "metadata": {
    "id": "6eGPavqLXp2X"
   },
   "source": [
    "And now for Statin medications. We could create separate base and year-specific views as well, but will just create one to keep the example short:"
   ]
  },
  {
   "cell_type": "code",
   "execution_count": 21,
   "metadata": {
    "colab": {
     "height": 206
    },
    "executionInfo": {
     "elapsed": 7253,
     "status": "ok",
     "timestamp": 1660942916016,
     "user": {
      "displayName": "",
      "userId": ""
     },
     "user_tz": 420
    },
    "id": "3bLmq6X3cp8S",
    "outputId": "2c2c0648-e2f0-46de-b9b6-7999f99a50a5"
   },
   "outputs": [
    {
     "data": {
      "text/html": [
       "<div>\n",
       "<style scoped>\n",
       "    .dataframe tbody tr th:only-of-type {\n",
       "        vertical-align: middle;\n",
       "    }\n",
       "\n",
       "    .dataframe tbody tr th {\n",
       "        vertical-align: top;\n",
       "    }\n",
       "\n",
       "    .dataframe thead th {\n",
       "        text-align: right;\n",
       "    }\n",
       "</style>\n",
       "<table border=\"1\" class=\"dataframe\">\n",
       "  <thead>\n",
       "    <tr style=\"text-align: right;\">\n",
       "      <th></th>\n",
       "      <th>patient</th>\n",
       "      <th>date</th>\n",
       "    </tr>\n",
       "  </thead>\n",
       "  <tbody>\n",
       "    <tr>\n",
       "      <th>0</th>\n",
       "      <td>12d8a421-14f7-4012-bd46-e9d2edb52c50</td>\n",
       "      <td>2018-04-20T18:08:59+00:00</td>\n",
       "    </tr>\n",
       "    <tr>\n",
       "      <th>1</th>\n",
       "      <td>1e462029-8b6e-4dac-a5b4-a0289cd656fd</td>\n",
       "      <td>2018-11-05T14:05:13+00:00</td>\n",
       "    </tr>\n",
       "    <tr>\n",
       "      <th>2</th>\n",
       "      <td>b491c3c8-0fd5-4488-bf38-6e1fb6eb129f</td>\n",
       "      <td>2018-05-11T14:37:32+00:00</td>\n",
       "    </tr>\n",
       "    <tr>\n",
       "      <th>3</th>\n",
       "      <td>cd28fef1-2e2b-4550-a3b3-d0abbf4a6f70</td>\n",
       "      <td>2018-12-19T20:40:03+00:00</td>\n",
       "    </tr>\n",
       "    <tr>\n",
       "      <th>4</th>\n",
       "      <td>1dec8bcc-769b-4e09-a76a-505eeaf88bfa</td>\n",
       "      <td>2018-09-06T10:01:44+00:00</td>\n",
       "    </tr>\n",
       "  </tbody>\n",
       "</table>\n",
       "</div>"
      ],
      "text/plain": [
       "                                patient                       date\n",
       "0  12d8a421-14f7-4012-bd46-e9d2edb52c50  2018-04-20T18:08:59+00:00\n",
       "1  1e462029-8b6e-4dac-a5b4-a0289cd656fd  2018-11-05T14:05:13+00:00\n",
       "2  b491c3c8-0fd5-4488-bf38-6e1fb6eb129f  2018-05-11T14:37:32+00:00\n",
       "3  cd28fef1-2e2b-4550-a3b3-d0abbf4a6f70  2018-12-19T20:40:03+00:00\n",
       "4  1dec8bcc-769b-4e09-a76a-505eeaf88bfa  2018-09-06T10:01:44+00:00"
      ]
     },
     "execution_count": 21,
     "metadata": {},
     "output_type": "execute_result"
    }
   ],
   "source": [
    "statin_meds_2018 = meds.select({\n",
    "    'patient': meds.subject.idFor('Patient'),\n",
    "    'date': meds.authoredOn\n",
    "    }).where(\n",
    "        meds.medication.ofType('CodeableConcept').memberOf(STATIN_MEDS),\n",
    "        meds.authoredOn >= start_date,\n",
    "        meds.authoredOn < end_date\n",
    "        )\n",
    "\n",
    "runner.create_bigquery_view(statin_meds_2018, 'statin_meds_2018')\n",
    "runner.to_dataframe(statin_meds_2018, limit=5)"
   ]
  },
  {
   "cell_type": "markdown",
   "metadata": {
    "id": "UVs1OjLW7W9L"
   },
   "source": [
    "# Bringing it all together\n",
    "Now we have the building blocks, so let's do our (simplified) care gap analysis itself. The key questions are for during the measurement period:\n",
    "\n",
    "* Does the patient have high LDL?\n",
    "* Does the patient have CHD or equivalent risk?\n",
    "* Is the patient on statin medications?\n",
    "\n",
    "\n",
    "This breaks down into a straightforward query with simple EXISTS expressions for each of the above:"
   ]
  },
  {
   "cell_type": "code",
   "execution_count": 22,
   "metadata": {
    "colab": {
     "height": 66
    },
    "executionInfo": {
     "elapsed": 1158,
     "status": "ok",
     "timestamp": 1660942917228,
     "user": {
      "displayName": "",
      "userId": ""
     },
     "user_tz": 420
    },
    "id": "kPk4s-TOQXNv",
    "outputId": "cc1af404-3ff6-4309-ddd3-2bf13fcc9401"
   },
   "outputs": [
    {
     "name": "stderr",
     "output_type": "stream",
     "text": [
      "Query complete after 0.00s: 100%|██████████| 1/1 [00:00<00:00, 741.83query/s] \n"
     ]
    },
    {
     "data": {
      "text/html": [
       "<div>\n",
       "<style scoped>\n",
       "    .dataframe tbody tr th:only-of-type {\n",
       "        vertical-align: middle;\n",
       "    }\n",
       "\n",
       "    .dataframe tbody tr th {\n",
       "        vertical-align: top;\n",
       "    }\n",
       "\n",
       "    .dataframe thead th {\n",
       "        text-align: right;\n",
       "    }\n",
       "</style>\n",
       "<table border=\"1\" class=\"dataframe\">\n",
       "  <thead>\n",
       "    <tr style=\"text-align: right;\">\n",
       "      <th></th>\n",
       "    </tr>\n",
       "  </thead>\n",
       "  <tbody>\n",
       "  </tbody>\n",
       "</table>\n",
       "</div>"
      ],
      "text/plain": [
       "Empty DataFrame\n",
       "Columns: []\n",
       "Index: []"
      ]
     },
     "execution_count": 22,
     "metadata": {},
     "output_type": "execute_result"
    }
   ],
   "source": [
    "%%bigquery\n",
    "CREATE OR REPLACE VIEW statin_analysis_example.statin_usage_summary_2018 AS (\n",
    "SELECT p.id,\n",
    "       p.birthDate,\n",
    "       p.gender,\n",
    "      EXISTS(SELECT * FROM statin_analysis_example.ldl_obs_2018 l\n",
    "             WHERE l.patient = p.id AND l.value > 180) has_high_ldl,\n",
    "      EXISTS(SELECT * FROM statin_analysis_example.chd_or_equiv_risks_2018 c\n",
    "             WHERE c.patient = p.id) has_chd_or_equiv_risk,\n",
    "      EXISTS(SELECT * FROM statin_analysis_example.statin_meds_2018 m\n",
    "             WHERE m.patient = p.id) has_statin\n",
    "FROM statin_analysis_example.patients p)"
   ]
  },
  {
   "cell_type": "code",
   "execution_count": 23,
   "metadata": {
    "colab": {
     "height": 241
    },
    "executionInfo": {
     "elapsed": 18033,
     "status": "ok",
     "timestamp": 1660942935322,
     "user": {
      "displayName": "",
      "userId": ""
     },
     "user_tz": 420
    },
    "id": "2IEseRh4Z0Om",
    "outputId": "1b3b7cdc-1306-4783-e906-495cfbfa7e5e"
   },
   "outputs": [
    {
     "name": "stderr",
     "output_type": "stream",
     "text": [
      "Query complete after 0.00s: 100%|██████████| 56/56 [00:00<00:00, 27945.39query/s]                      \n",
      "Downloading: 100%|██████████| 5/5 [00:01<00:00,  3.55rows/s]\n"
     ]
    },
    {
     "data": {
      "text/html": [
       "<div>\n",
       "<style scoped>\n",
       "    .dataframe tbody tr th:only-of-type {\n",
       "        vertical-align: middle;\n",
       "    }\n",
       "\n",
       "    .dataframe tbody tr th {\n",
       "        vertical-align: top;\n",
       "    }\n",
       "\n",
       "    .dataframe thead th {\n",
       "        text-align: right;\n",
       "    }\n",
       "</style>\n",
       "<table border=\"1\" class=\"dataframe\">\n",
       "  <thead>\n",
       "    <tr style=\"text-align: right;\">\n",
       "      <th></th>\n",
       "      <th>id</th>\n",
       "      <th>birthDate</th>\n",
       "      <th>gender</th>\n",
       "      <th>has_high_ldl</th>\n",
       "      <th>has_chd_or_equiv_risk</th>\n",
       "      <th>has_statin</th>\n",
       "    </tr>\n",
       "  </thead>\n",
       "  <tbody>\n",
       "    <tr>\n",
       "      <th>0</th>\n",
       "      <td>71b79183-16f5-48f8-bb83-db37679e2613</td>\n",
       "      <td>2013-10-23</td>\n",
       "      <td>male</td>\n",
       "      <td>False</td>\n",
       "      <td>False</td>\n",
       "      <td>False</td>\n",
       "    </tr>\n",
       "    <tr>\n",
       "      <th>1</th>\n",
       "      <td>7129d27f-ed6d-4f1e-b74c-b34b9568adb6</td>\n",
       "      <td>1910-04-22</td>\n",
       "      <td>female</td>\n",
       "      <td>False</td>\n",
       "      <td>False</td>\n",
       "      <td>False</td>\n",
       "    </tr>\n",
       "    <tr>\n",
       "      <th>2</th>\n",
       "      <td>df0bdea7-c2e3-495e-b074-6bdb975cd0b5</td>\n",
       "      <td>1996-12-07</td>\n",
       "      <td>male</td>\n",
       "      <td>False</td>\n",
       "      <td>False</td>\n",
       "      <td>False</td>\n",
       "    </tr>\n",
       "    <tr>\n",
       "      <th>3</th>\n",
       "      <td>8deea896-a7fb-4e6d-b405-74efaf4691c9</td>\n",
       "      <td>1971-12-03</td>\n",
       "      <td>female</td>\n",
       "      <td>False</td>\n",
       "      <td>False</td>\n",
       "      <td>False</td>\n",
       "    </tr>\n",
       "    <tr>\n",
       "      <th>4</th>\n",
       "      <td>17c37a7c-5de9-4c4e-94da-0f6f315ac91b</td>\n",
       "      <td>2000-09-12</td>\n",
       "      <td>male</td>\n",
       "      <td>False</td>\n",
       "      <td>False</td>\n",
       "      <td>False</td>\n",
       "    </tr>\n",
       "  </tbody>\n",
       "</table>\n",
       "</div>"
      ],
      "text/plain": [
       "                                     id   birthDate  gender  has_high_ldl  \\\n",
       "0  71b79183-16f5-48f8-bb83-db37679e2613  2013-10-23    male         False   \n",
       "1  7129d27f-ed6d-4f1e-b74c-b34b9568adb6  1910-04-22  female         False   \n",
       "2  df0bdea7-c2e3-495e-b074-6bdb975cd0b5  1996-12-07    male         False   \n",
       "3  8deea896-a7fb-4e6d-b405-74efaf4691c9  1971-12-03  female         False   \n",
       "4  17c37a7c-5de9-4c4e-94da-0f6f315ac91b  2000-09-12    male         False   \n",
       "\n",
       "   has_chd_or_equiv_risk  has_statin  \n",
       "0                  False       False  \n",
       "1                  False       False  \n",
       "2                  False       False  \n",
       "3                  False       False  \n",
       "4                  False       False  "
      ]
     },
     "execution_count": 23,
     "metadata": {},
     "output_type": "execute_result"
    }
   ],
   "source": [
    "%%bigquery\n",
    "SELECT * FROM statin_analysis_example.statin_usage_summary_2018 LIMIT 5"
   ]
  },
  {
   "cell_type": "markdown",
   "metadata": {
    "id": "iVuNQlCv81g3"
   },
   "source": [
    "Finally, we apply our measure criteria and roll them up into counts, seeing exactly how many patients in this sample data are missing statin medications they should probably have:"
   ]
  },
  {
   "cell_type": "code",
   "execution_count": 24,
   "metadata": {
    "colab": {
     "height": 210
    },
    "executionInfo": {
     "elapsed": 16977,
     "status": "ok",
     "timestamp": 1660942952351,
     "user": {
      "displayName": "",
      "userId": ""
     },
     "user_tz": 420
    },
    "id": "i78PSV9Lhamu",
    "outputId": "a1ab4524-7209-41c9-e616-1c8040b4fdb2"
   },
   "outputs": [
    {
     "name": "stderr",
     "output_type": "stream",
     "text": [
      "Query complete after 0.00s: 100%|██████████| 52/52 [00:00<00:00, 21450.02query/s]                      \n",
      "Downloading: 100%|██████████| 4/4 [00:01<00:00,  2.91rows/s]\n"
     ]
    },
    {
     "data": {
      "text/html": [
       "<div>\n",
       "<style scoped>\n",
       "    .dataframe tbody tr th:only-of-type {\n",
       "        vertical-align: middle;\n",
       "    }\n",
       "\n",
       "    .dataframe tbody tr th {\n",
       "        vertical-align: top;\n",
       "    }\n",
       "\n",
       "    .dataframe thead th {\n",
       "        text-align: right;\n",
       "    }\n",
       "</style>\n",
       "<table border=\"1\" class=\"dataframe\">\n",
       "  <thead>\n",
       "    <tr style=\"text-align: right;\">\n",
       "      <th></th>\n",
       "      <th>needs_statin</th>\n",
       "      <th>has_statin</th>\n",
       "      <th>count</th>\n",
       "    </tr>\n",
       "  </thead>\n",
       "  <tbody>\n",
       "    <tr>\n",
       "      <th>0</th>\n",
       "      <td>False</td>\n",
       "      <td>False</td>\n",
       "      <td>1169141</td>\n",
       "    </tr>\n",
       "    <tr>\n",
       "      <th>1</th>\n",
       "      <td>True</td>\n",
       "      <td>False</td>\n",
       "      <td>4701</td>\n",
       "    </tr>\n",
       "    <tr>\n",
       "      <th>2</th>\n",
       "      <td>True</td>\n",
       "      <td>True</td>\n",
       "      <td>2174</td>\n",
       "    </tr>\n",
       "    <tr>\n",
       "      <th>3</th>\n",
       "      <td>False</td>\n",
       "      <td>True</td>\n",
       "      <td>821</td>\n",
       "    </tr>\n",
       "  </tbody>\n",
       "</table>\n",
       "</div>"
      ],
      "text/plain": [
       "   needs_statin  has_statin    count\n",
       "0         False       False  1169141\n",
       "1          True       False     4701\n",
       "2          True        True     2174\n",
       "3         False        True      821"
      ]
     },
     "execution_count": 24,
     "metadata": {},
     "output_type": "execute_result"
    }
   ],
   "source": [
    "%%bigquery\n",
    "SELECT has_high_ldl OR has_chd_or_equiv_risk AS needs_statin,\n",
    "       has_statin,\n",
    "       COUNT(*) count\n",
    "FROM statin_analysis_example.statin_usage_summary_2018\n",
    "GROUP BY needs_statin, has_statin"
   ]
  }
 ],
 "metadata": {
  "colab": {
   "collapsed_sections": [],
   "last_runtime": {
    "build_target": "",
    "kind": "local"
   },
   "name": "statin_analysis.ipynb",
   "provenance": [
    {
     "file_id": "1_oxgM2_GoieyC5pE9aDlsUYBuHqCiFh7",
     "timestamp": 1660152708839
    }
   ]
  },
  "environment": {
   "kernel": "python3",
   "name": "common-cpu.m95",
   "type": "gcloud",
   "uri": "gcr.io/deeplearning-platform-release/base-cpu:m95"
  },
  "kernelspec": {
   "display_name": "Python 3",
   "language": "python",
   "name": "python3"
  },
  "language_info": {
   "codemirror_mode": {
    "name": "ipython",
    "version": 3
   },
   "file_extension": ".py",
   "mimetype": "text/x-python",
   "name": "python",
   "nbconvert_exporter": "python",
   "pygments_lexer": "ipython3",
   "version": "3.7.12"
  }
 },
 "nbformat": 4,
 "nbformat_minor": 4
}
